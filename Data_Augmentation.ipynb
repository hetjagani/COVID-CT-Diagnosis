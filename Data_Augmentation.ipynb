{
 "cells": [
  {
   "cell_type": "code",
   "execution_count": null,
   "metadata": {
    "colab": {
     "base_uri": "https://localhost:8080/"
    },
    "executionInfo": {
     "elapsed": 17650,
     "status": "ok",
     "timestamp": 1625586598237,
     "user": {
      "displayName": "Het Hareshkumar Jagani",
      "photoUrl": "",
      "userId": "06617458907438964009"
     },
     "user_tz": 420
    },
    "id": "BODLtNchoWvd",
    "outputId": "bb4a2d5e-aae7-4367-ad03-780718cfcb62"
   },
   "outputs": [
    {
     "name": "stdout",
     "output_type": "stream",
     "text": [
      "Mounted at /gdrive\n"
     ]
    }
   ],
   "source": [
    "## Run this only if running in colab\n",
    "from google.colab import drive\n",
    "drive.mount('/gdrive', force_remount=True)"
   ]
  },
  {
   "cell_type": "markdown",
   "metadata": {
    "id": "HIFGx7vzvZfW"
   },
   "source": [
    "## Imports"
   ]
  },
  {
   "cell_type": "code",
   "execution_count": null,
   "metadata": {
    "colab": {
     "base_uri": "https://localhost:8080/"
    },
    "executionInfo": {
     "elapsed": 4890,
     "status": "ok",
     "timestamp": 1625586612540,
     "user": {
      "displayName": "Het Hareshkumar Jagani",
      "photoUrl": "",
      "userId": "06617458907438964009"
     },
     "user_tz": 420
    },
    "id": "cWOKiMfoCOnS",
    "outputId": "3df32c33-90c8-40bb-d0c3-63f221679e60"
   },
   "outputs": [
    {
     "name": "stdout",
     "output_type": "stream",
     "text": [
      "Collecting tensorflow_addons\n",
      "\u001b[?25l  Downloading https://files.pythonhosted.org/packages/66/4b/e893d194e626c24b3df2253066aa418f46a432fdb68250cde14bf9bb0700/tensorflow_addons-0.13.0-cp37-cp37m-manylinux2010_x86_64.whl (679kB)\n",
      "\u001b[K     |████████████████████████████████| 686kB 3.7MB/s \n",
      "\u001b[?25hRequirement already satisfied: typeguard>=2.7 in /usr/local/lib/python3.7/dist-packages (from tensorflow_addons) (2.7.1)\n",
      "Installing collected packages: tensorflow-addons\n",
      "Successfully installed tensorflow-addons-0.13.0\n"
     ]
    }
   ],
   "source": [
    "!pip install tensorflow_addons"
   ]
  },
  {
   "cell_type": "code",
   "execution_count": null,
   "metadata": {
    "id": "sqaa_t73oWve"
   },
   "outputs": [],
   "source": [
    "import cv2\n",
    "import os\n",
    "import tensorflow as tf\n",
    "import numpy as np\n",
    "import matplotlib.pyplot as plt\n",
    "import pandas as pd\n",
    "from google.colab.patches import cv2_imshow\n",
    "import PIL\n",
    "import tensorflow_addons as tfa"
   ]
  },
  {
   "cell_type": "code",
   "execution_count": null,
   "metadata": {
    "id": "8DuE76_xEAOq"
   },
   "outputs": [],
   "source": [
    "def add_salt_pepper_noise(X_imgs):\n",
    "    X_img = X_imgs.numpy().copy()\n",
    "    row, col, _ = X_img.shape\n",
    "    salt_vs_pepper = 0.2\n",
    "    amount = 0.004\n",
    "    num_salt = np.ceil(amount * X_img.size * salt_vs_pepper)\n",
    "    num_pepper = np.ceil(amount * X_img.size * (1.0 - salt_vs_pepper))\n",
    "    \n",
    "    # Add Salt noise\n",
    "    coords = [np.random.randint(0, i - 1, int(num_salt)) for i in X_img.shape]\n",
    "    X_img[coords[0], coords[1], :] = 1\n",
    "\n",
    "    # Add Pepper noise\n",
    "    coords = [np.random.randint(0, i - 1, int(num_pepper)) for i in X_img.shape]\n",
    "    X_img[coords[0], coords[1], :] = 0\n",
    "    return tf.convert_to_tensor(X_img, dtype=tf.uint8)"
   ]
  },
  {
   "cell_type": "markdown",
   "metadata": {
    "id": "aSdMc4jBHJ6P"
   },
   "source": [
    "## Defining Augmenting Function\n"
   ]
  },
  {
   "cell_type": "code",
   "execution_count": null,
   "metadata": {
    "id": "jm8tBlFIHtZ1"
   },
   "outputs": [],
   "source": [
    "def augment_images(dir, aug_dir): \n",
    "    IMG_SIZE = 256\n",
    "    for img_path in os.listdir(dir):\n",
    "        image = tf.keras.preprocessing.image.load_img(dir+img_path)\n",
    "        img_tensor = tf.convert_to_tensor(tf.keras.preprocessing.image.img_to_array(image))\n",
    "        \n",
    "        img_tensor = tf.cast(img_tensor, tf.uint8)\n",
    "\n",
    "        img_tensor = tf.image.resize(img_tensor, (IMG_SIZE,IMG_SIZE))\n",
    "\n",
    "        fliplr = tf.image.flip_left_right(img_tensor)\n",
    "        flipud = tf.image.flip_up_down(img_tensor)\n",
    "        rotl = tfa.image.rotate(img_tensor, angles=3.1415/9)\n",
    "        rotr = tfa.image.rotate(img_tensor, angles=-3.1415/9)\n",
    "        \n",
    "        noise = tf.random.normal(shape=tf.shape(img_tensor), mean=0.0, stddev=1.0)\n",
    "        noise_img = tf.add(tf.cast(img_tensor, tf.uint8), tf.cast(noise,dtype=tf.uint8))\n",
    "\n",
    "        sp_img = add_salt_pepper_noise(img_tensor)\n",
    "        \n",
    "        tf.keras.preprocessing.image.save_img(aug_dir+img_path, img_tensor)    # save original\n",
    "        tf.keras.preprocessing.image.save_img(aug_dir+img_path.split(\".\")[0]+\"_fliplr.png\", fliplr)\n",
    "        tf.keras.preprocessing.image.save_img(aug_dir+img_path.split(\".\")[0]+\"_flipud.png\", flipud)\n",
    "        tf.keras.preprocessing.image.save_img(aug_dir+img_path.split(\".\")[0]+\"_rotl.png\", rotl)\n",
    "        tf.keras.preprocessing.image.save_img(aug_dir+img_path.split(\".\")[0]+\"_rotr.png\", rotr)\n",
    "        tf.keras.preprocessing.image.save_img(aug_dir+img_path.split(\".\")[0]+\"_noise.png\", noise_img)\n",
    "        tf.keras.preprocessing.image.save_img(aug_dir+img_path.split(\".\")[0]+\"_sp.png\", sp_img)\n",
    "\n",
    "        print(\"Augmenting image {}\".format(dir+img_path))"
   ]
  },
  {
   "cell_type": "code",
   "execution_count": null,
   "metadata": {
    "colab": {
     "base_uri": "https://localhost:8080/"
    },
    "executionInfo": {
     "elapsed": 63145,
     "status": "ok",
     "timestamp": 1625586686788,
     "user": {
      "displayName": "Het Hareshkumar Jagani",
      "photoUrl": "",
      "userId": "06617458907438964009"
     },
     "user_tz": 420
    },
    "id": "e0YNIOAmvump",
    "outputId": "f2c1dc8a-fe39-4a24-f922-bf2726b141a8"
   },
   "outputs": [
    {
     "name": "stdout",
     "output_type": "stream",
     "text": [
      "Total NON COVID Images before Augmentation = 1019\n",
      "Total NON COVID Images after Augmentation = 10428\n",
      "Total COVID Images before Augmentation = 1381\n",
      "Total COVID Images after Augmentation = 9198\n"
     ]
    }
   ],
   "source": [
    "data_mining_dir = '/gdrive/MyDrive/Data Mining - 255/'\n",
    "covid_dataset_dir = data_mining_dir + '/Dataset/COVID/'\n",
    "noncovid_dataset_dir = data_mining_dir + '/Dataset/non-COVID/'\n",
    "\n",
    "aug_covid_dataset_dir = data_mining_dir + 'Augmented Dataset/COVID/'\n",
    "aug_noncovid_dataset_dir = data_mining_dir + 'Augmented Dataset/non-COVID/'\n",
    "\n",
    "# Augmenting NON COVID images\n",
    "print(\"Total NON COVID Images before Augmentation = {}\".format(len(os.listdir(noncovid_dataset_dir))))\n",
    "# augment_images(noncovid_dataset_dir, aug_noncovid_dataset_dir)\n",
    "print(\"Total NON COVID Images after Augmentation = {}\".format(len(os.listdir(aug_noncovid_dataset_dir))))\n",
    "\n",
    "# Augmenting COVID images\n",
    "print(\"Total COVID Images before Augmentation = {}\".format(len(os.listdir(covid_dataset_dir))))\n",
    "# augment_images(covid_dataset_dir, aug_covid_dataset_dir)\n",
    "print(\"Total COVID Images after Augmentation = {}\".format(len(os.listdir(aug_covid_dataset_dir))))"
   ]
  },
  {
   "cell_type": "code",
   "execution_count": null,
   "metadata": {
    "id": "KlpnrrExw1lR"
   },
   "outputs": [],
   "source": []
  }
 ],
 "metadata": {
  "colab": {
   "collapsed_sections": [],
   "name": "Data Augmentation.ipynb",
   "provenance": []
  },
  "kernelspec": {
   "display_name": "Python 3 (ipykernel)",
   "language": "python",
   "name": "python3"
  },
  "language_info": {
   "codemirror_mode": {
    "name": "ipython",
    "version": 3
   },
   "file_extension": ".py",
   "mimetype": "text/x-python",
   "name": "python",
   "nbconvert_exporter": "python",
   "pygments_lexer": "ipython3",
   "version": "3.9.5"
  }
 },
 "nbformat": 4,
 "nbformat_minor": 1
}
