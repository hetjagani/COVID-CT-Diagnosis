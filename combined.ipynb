{
 "cells": [
  {
   "cell_type": "code",
   "execution_count": 25,
   "metadata": {},
   "outputs": [],
   "source": [
    "import numpy as np\n",
    "import matplotlib.pyplot as plt\n",
    "from sklearn.decomposition import PCA\n",
    "import tensorflow as tf\n",
    "import pandas as pd\n",
    "from sklearn.metrics import precision_recall_fscore_support"
   ]
  },
  {
   "cell_type": "markdown",
   "metadata": {},
   "source": [
    "## Load Dataset"
   ]
  },
  {
   "cell_type": "code",
   "execution_count": 2,
   "metadata": {},
   "outputs": [
    {
     "name": "stdout",
     "output_type": "stream",
     "text": [
      "X_train shape  (16653, 64, 64, 3)\n",
      "y_train shape  (16653,)\n",
      "X_test shape  (4163, 64, 64, 3)\n",
      "y_test shape  (4163,)\n"
     ]
    }
   ],
   "source": [
    "datamining_dir = \"./\"\n",
    "\n",
    "X_train = np.load(datamining_dir + \"train_X.npy\")\n",
    "X_test = np.load(datamining_dir + \"test_X.npy\")\n",
    "y_train = np.load(datamining_dir + \"train_Y.npy\")\n",
    "y_test = np.load(datamining_dir + \"test_Y.npy\")\n",
    "\n",
    "X_train_imgs = np.stack((X_train, X_train, X_train), axis=3)\n",
    "X_test_imgs = np.stack((X_test, X_test, X_test), axis=3)\n",
    "\n",
    "\n",
    "print(\"X_train shape \", X_train_imgs.shape)\n",
    "print(\"y_train shape \", y_train.shape)\n",
    "print(\"X_test shape \", X_test_imgs.shape)\n",
    "print(\"y_test shape \", y_test.shape)"
   ]
  },
  {
   "cell_type": "markdown",
   "metadata": {},
   "source": [
    "## Preparing Feature Extractor Model"
   ]
  },
  {
   "cell_type": "code",
   "execution_count": 3,
   "metadata": {},
   "outputs": [
    {
     "name": "stderr",
     "output_type": "stream",
     "text": [
      "2021-07-24 12:39:42.230243: I tensorflow/stream_executor/platform/default/dso_loader.cc:53] Successfully opened dynamic library libcuda.so.1\n",
      "2021-07-24 12:39:42.311560: I tensorflow/stream_executor/cuda/cuda_gpu_executor.cc:937] successful NUMA node read from SysFS had negative value (-1), but there must be at least one NUMA node, so returning NUMA node zero\n",
      "2021-07-24 12:39:42.312074: I tensorflow/core/common_runtime/gpu/gpu_device.cc:1733] Found device 0 with properties: \n",
      "pciBusID: 0000:01:00.0 name: NVIDIA GeForce GTX 1650 computeCapability: 7.5\n",
      "coreClock: 1.56GHz coreCount: 16 deviceMemorySize: 3.82GiB deviceMemoryBandwidth: 119.24GiB/s\n",
      "2021-07-24 12:39:42.312207: W tensorflow/stream_executor/platform/default/dso_loader.cc:64] Could not load dynamic library 'libcudart.so.11.0'; dlerror: libcudart.so.11.0: cannot open shared object file: No such file or directory\n",
      "2021-07-24 12:39:42.344975: I tensorflow/stream_executor/platform/default/dso_loader.cc:53] Successfully opened dynamic library libcublas.so.11\n",
      "2021-07-24 12:39:42.345034: I tensorflow/stream_executor/platform/default/dso_loader.cc:53] Successfully opened dynamic library libcublasLt.so.11\n",
      "2021-07-24 12:39:42.345108: W tensorflow/stream_executor/platform/default/dso_loader.cc:64] Could not load dynamic library 'libcufft.so.10'; dlerror: libcufft.so.10: cannot open shared object file: No such file or directory\n",
      "2021-07-24 12:39:42.345155: W tensorflow/stream_executor/platform/default/dso_loader.cc:64] Could not load dynamic library 'libcurand.so.10'; dlerror: libcurand.so.10: cannot open shared object file: No such file or directory\n",
      "2021-07-24 12:39:42.345200: W tensorflow/stream_executor/platform/default/dso_loader.cc:64] Could not load dynamic library 'libcusolver.so.11'; dlerror: libcusolver.so.11: cannot open shared object file: No such file or directory\n",
      "2021-07-24 12:39:42.345244: W tensorflow/stream_executor/platform/default/dso_loader.cc:64] Could not load dynamic library 'libcusparse.so.11'; dlerror: libcusparse.so.11: cannot open shared object file: No such file or directory\n",
      "2021-07-24 12:39:42.346241: I tensorflow/stream_executor/platform/default/dso_loader.cc:53] Successfully opened dynamic library libcudnn.so.8\n",
      "2021-07-24 12:39:42.346251: W tensorflow/core/common_runtime/gpu/gpu_device.cc:1766] Cannot dlopen some GPU libraries. Please make sure the missing libraries mentioned above are installed properly if you would like to use GPU. Follow the guide at https://www.tensorflow.org/install/gpu for how to download and setup the required libraries for your platform.\n",
      "Skipping registering GPU devices...\n",
      "2021-07-24 12:39:42.346504: I tensorflow/core/platform/cpu_feature_guard.cc:142] This TensorFlow binary is optimized with oneAPI Deep Neural Network Library (oneDNN) to use the following CPU instructions in performance-critical operations:  AVX2 FMA\n",
      "To enable them in other operations, rebuild TensorFlow with the appropriate compiler flags.\n",
      "2021-07-24 12:39:42.347305: I tensorflow/core/common_runtime/gpu/gpu_device.cc:1258] Device interconnect StreamExecutor with strength 1 edge matrix:\n",
      "2021-07-24 12:39:42.347315: I tensorflow/core/common_runtime/gpu/gpu_device.cc:1264]      \n"
     ]
    },
    {
     "name": "stdout",
     "output_type": "stream",
     "text": [
      "Model: \"model\"\n",
      "__________________________________________________________________________________________________\n",
      "Layer (type)                    Output Shape         Param #     Connected to                     \n",
      "==================================================================================================\n",
      "Total params: 23,587,712\n",
      "Trainable params: 0\n",
      "Non-trainable params: 23,587,712\n",
      "__________________________________________________________________________________________________\n",
      "None\n"
     ]
    }
   ],
   "source": [
    "from keras.applications.resnet50 import ResNet50\n",
    "from keras.models import Model\n",
    "\n",
    "dims = 64\n",
    "resnet = ResNet50(include_top=False, input_shape=(dims, dims, 3))\n",
    "\n",
    "for layer in resnet.layers:\n",
    "    layer.trainable = False\n",
    "    \n",
    "model = tf.keras.layers.Flatten()(resnet.output)\n",
    "model = Model(resnet.input, model)\n",
    "\n",
    "print(model.summary())"
   ]
  },
  {
   "cell_type": "markdown",
   "metadata": {},
   "source": [
    "## Extracting Features via ResNet50 CNN"
   ]
  },
  {
   "cell_type": "code",
   "execution_count": 4,
   "metadata": {},
   "outputs": [
    {
     "name": "stderr",
     "output_type": "stream",
     "text": [
      "2021-07-24 12:39:43.552780: W tensorflow/core/framework/cpu_allocator_impl.cc:80] Allocation of 818528256 exceeds 10% of free system memory.\n",
      "2021-07-24 12:39:43.990251: I tensorflow/compiler/mlir/mlir_graph_optimization_pass.cc:176] None of the MLIR Optimization Passes are enabled (registered 2)\n",
      "2021-07-24 12:39:44.010030: I tensorflow/core/platform/profile_utils/cpu_utils.cc:114] CPU Frequency: 2599990000 Hz\n"
     ]
    },
    {
     "name": "stdout",
     "output_type": "stream",
     "text": [
      "X_train_out shape  (16653, 8192)\n",
      "X_test_out shape  (4163, 8192)\n"
     ]
    }
   ],
   "source": [
    "X_train_out = model.predict(X_train_imgs)\n",
    "X_test_out = model.predict(X_test_imgs)\n",
    "\n",
    "print(\"X_train_out shape \", X_train_out.shape)\n",
    "print(\"X_test_out shape \", X_test_out.shape)"
   ]
  },
  {
   "cell_type": "markdown",
   "metadata": {},
   "source": [
    "## Applying PCA on extracted features"
   ]
  },
  {
   "cell_type": "code",
   "execution_count": 5,
   "metadata": {},
   "outputs": [
    {
     "name": "stdout",
     "output_type": "stream",
     "text": [
      "X_train_red shape  (16653, 86)\n",
      "X_test_red shape  (4163, 86)\n"
     ]
    }
   ],
   "source": [
    "from sklearn.decomposition import PCA\n",
    "pca = PCA(n_components = 0.8)\n",
    "pca.fit(X_train_out)\n",
    "\n",
    "X_train_red = pca.transform(X_train_out)\n",
    "X_test_red = pca.transform(X_test_out)\n",
    "\n",
    "print(\"X_train_red shape \", X_train_red.shape)\n",
    "print(\"X_test_red shape \", X_test_red.shape)"
   ]
  },
  {
   "cell_type": "code",
   "execution_count": 6,
   "metadata": {},
   "outputs": [],
   "source": [
    "accuracies = {}\n",
    "precisions = {}\n",
    "recalls = {}\n",
    "fscores = {}"
   ]
  },
  {
   "cell_type": "markdown",
   "metadata": {},
   "source": [
    "## Fit KNN Classifier"
   ]
  },
  {
   "cell_type": "code",
   "execution_count": 7,
   "metadata": {},
   "outputs": [
    {
     "name": "stdout",
     "output_type": "stream",
     "text": [
      "Accuracy  89.02233965889982\n"
     ]
    }
   ],
   "source": [
    "from sklearn.neighbors import KNeighborsClassifier\n",
    "\n",
    "knn = KNeighborsClassifier(n_neighbors=5, weights='distance')\n",
    "knn.fit(X_train_out, y_train)\n",
    "\n",
    "acc = knn.score(X_test_out, y_test)\n",
    "y_pred = knn.predict(X_test_out)\n",
    "print(\"Accuracy \", acc*100)\n",
    "\n",
    "precision, recall, fscore, _ = precision_recall_fscore_support(y_test, y_pred)\n",
    "\n",
    "accuracies['knn'] = acc*100\n",
    "precisions['knn'] = precision[0]*100\n",
    "recalls['knn'] = recall[0]*100\n",
    "fscores['knn'] = fscore[0]*100"
   ]
  },
  {
   "cell_type": "code",
   "execution_count": 9,
   "metadata": {},
   "outputs": [
    {
     "name": "stdout",
     "output_type": "stream",
     "text": [
      "Accuracy  87.24477540235407\n"
     ]
    }
   ],
   "source": [
    "knn_pca = KNeighborsClassifier(n_neighbors=5, weights='distance')\n",
    "knn_pca.fit(X_train_red, y_train)\n",
    "\n",
    "acc = knn_pca.score(X_test_red, y_test)\n",
    "y_pred = knn_pca.predict(X_test_red)\n",
    "print(\"Accuracy \", acc*100)\n",
    "\n",
    "precision, recall, fscore, _ = precision_recall_fscore_support(y_test, y_pred)\n",
    "\n",
    "accuracies['knn_pca'] = acc*100\n",
    "precisions['knn_pca'] = precision[0]*100\n",
    "recalls['knn_pca'] = recall[0]*100\n",
    "fscores['knn_pca'] = fscore[0]*100"
   ]
  },
  {
   "cell_type": "markdown",
   "metadata": {},
   "source": [
    "## Fit SVM Classifier"
   ]
  },
  {
   "cell_type": "code",
   "execution_count": 10,
   "metadata": {},
   "outputs": [
    {
     "name": "stdout",
     "output_type": "stream",
     "text": [
      "Accuracy  83.85779485947634\n"
     ]
    }
   ],
   "source": [
    "from sklearn import svm\n",
    "\n",
    "svmc = svm.SVC(kernel='linear').fit(X_train_out, y_train)\n",
    "acc = svmc.score(X_test_out, y_test)\n",
    "y_pred = svmc.predict(X_test_out)\n",
    "print(\"Accuracy \", acc*100)\n",
    "\n",
    "precision, recall, fscore, _ = precision_recall_fscore_support(y_test, y_pred)\n",
    "\n",
    "accuracies['svm'] = acc*100\n",
    "precisions['svm'] = precision[0]*100\n",
    "recalls['svm'] = recall[0]*100\n",
    "fscores['svm'] = fscore[0]*100"
   ]
  },
  {
   "cell_type": "code",
   "execution_count": 11,
   "metadata": {},
   "outputs": [
    {
     "name": "stdout",
     "output_type": "stream",
     "text": [
      "Accuracy  76.81960124909921\n"
     ]
    }
   ],
   "source": [
    "svm_pca = svm.SVC(kernel='linear').fit(X_train_red, y_train)\n",
    "acc = svm_pca.score(X_test_red, y_test)\n",
    "y_pred = svm_pca.predict(X_test_red)\n",
    "print(\"Accuracy \", acc*100)\n",
    "\n",
    "precision, recall, fscore, _ = precision_recall_fscore_support(y_test, y_pred)\n",
    "\n",
    "accuracies['svm_pca'] = acc*100\n",
    "precisions['svm_pca'] = precision[0]*100\n",
    "recalls['svm_pca'] = recall[0]*100\n",
    "fscores['svm_pca'] = fscore[0]*100"
   ]
  },
  {
   "cell_type": "markdown",
   "metadata": {},
   "source": [
    "## Fit DNN Model"
   ]
  },
  {
   "cell_type": "code",
   "execution_count": 19,
   "metadata": {},
   "outputs": [
    {
     "name": "stdout",
     "output_type": "stream",
     "text": [
      "Epoch 1/10\n",
      "100/100 [==============================] - 46s 439ms/step - loss: 0.7845 - acc: 0.6812 - val_loss: 0.4716 - val_acc: 0.7766\n",
      "Epoch 2/10\n",
      "100/100 [==============================] - 45s 455ms/step - loss: 0.4324 - acc: 0.7976 - val_loss: 0.4327 - val_acc: 0.7992\n",
      "Epoch 3/10\n",
      "100/100 [==============================] - 46s 460ms/step - loss: 0.3602 - acc: 0.8384 - val_loss: 0.4051 - val_acc: 0.8172\n",
      "Epoch 4/10\n",
      "100/100 [==============================] - 46s 459ms/step - loss: 0.2964 - acc: 0.8738 - val_loss: 0.4557 - val_acc: 0.8097\n",
      "Epoch 5/10\n",
      "100/100 [==============================] - 46s 460ms/step - loss: 0.2523 - acc: 0.8936 - val_loss: 0.3781 - val_acc: 0.8286\n",
      "Epoch 6/10\n",
      "100/100 [==============================] - 46s 461ms/step - loss: 0.2101 - acc: 0.9184 - val_loss: 0.2815 - val_acc: 0.8853\n",
      "Epoch 7/10\n",
      "100/100 [==============================] - 46s 463ms/step - loss: 0.1637 - acc: 0.9372 - val_loss: 0.3131 - val_acc: 0.8790\n",
      "Epoch 8/10\n",
      "100/100 [==============================] - 46s 461ms/step - loss: 0.1432 - acc: 0.9476 - val_loss: 0.2601 - val_acc: 0.8913\n",
      "Epoch 9/10\n",
      "100/100 [==============================] - 47s 467ms/step - loss: 0.1070 - acc: 0.9630 - val_loss: 0.4122 - val_acc: 0.8325\n",
      "Epoch 10/10\n",
      "100/100 [==============================] - 46s 462ms/step - loss: 0.0945 - acc: 0.9686 - val_loss: 0.4410 - val_acc: 0.8331\n",
      "131/131 [==============================] - 12s 89ms/step - loss: 0.4491 - acc: 0.8403\n",
      "Accuracy  84.02594327926636\n"
     ]
    }
   ],
   "source": [
    "from keras.applications.resnet50 import ResNet50\n",
    "from keras.models import Model\n",
    "\n",
    "dims = 64\n",
    "resnet = ResNet50(include_top=False, input_shape=(dims, dims, 3))\n",
    "\n",
    "for layer in resnet.layers:\n",
    "    layer.trainable = False\n",
    "\n",
    "## Extending resnet model to train a DNN\n",
    "dnn = tf.keras.layers.Flatten()(resnet.output)\n",
    "dnn = tf.keras.layers.Dense(512, activation='relu')(dnn)\n",
    "dnn = tf.keras.layers.Dense(256, activation='relu')(dnn)\n",
    "dnn = tf.keras.layers.Dense(256, activation='relu')(dnn)\n",
    "dnn = tf.keras.layers.Dense(1, activation='sigmoid')(dnn)\n",
    "\n",
    "dnn_model = Model(resnet.input, dnn)\n",
    "\n",
    "dnn_model.compile(optimizer = tf.keras.optimizers.RMSprop(learning_rate=0.0001), loss = 'binary_crossentropy',metrics = ['acc'])\n",
    "dnn_model.fit(X_train_imgs, y_train, validation_split=0.2, epochs=10, steps_per_epoch = 100)\n",
    "\n",
    "score, acc = dnn_model.evaluate(X_test_imgs, y_test)\n",
    "y_pred = dnn_model.predict(X_test_imgs)\n",
    "print(\"Accuracy \", acc*100)\n",
    "\n",
    "y_pred = np.around(y_pred.reshape(y_test.shape))\n",
    "precision, recall, fscore, _ = precision_recall_fscore_support(y_test, y_pred)\n",
    "\n",
    "accuracies['dnn'] = acc*100\n",
    "precisions['dnn'] = precision[0]*100\n",
    "recalls['dnn'] = recall[0]*100\n",
    "fscores['dnn'] = fscore[0]*100"
   ]
  },
  {
   "cell_type": "code",
   "execution_count": 47,
   "metadata": {},
   "outputs": [
    {
     "name": "stdout",
     "output_type": "stream",
     "text": [
      "{'knn': 89.02233965889982, 'knn_pca': 87.24477540235407, 'svm': 83.85779485947634, 'svm_pca': 76.81960124909921, 'dnn': 84.02594327926636}\n",
      "{'knn': 86.67020711630377, 'knn_pca': 85.11552928533047, 'svm': 81.58179848320694, 'svm_pca': 75.54125219426565, 'dnn': 74.9893481039625}\n",
      "{'knn': 88.79216539717085, 'knn_pca': 86.18063112078346, 'svm': 81.93688792165396, 'svm_pca': 70.23939064200218, 'dnn': 95.7562568008705}\n",
      "{'knn': 87.7183552808385, 'knn_pca': 85.6447688564477, 'svm': 81.75895765472312, 'svm_pca': 72.79391034677191, 'dnn': 84.10991636798089}\n",
      "      model     metric  percentage\n",
      "0       knn   Accuracy   89.022340\n",
      "1   knn_pca   Accuracy   87.244775\n",
      "2       svm   Accuracy   83.857795\n",
      "3   svm_pca   Accuracy   76.819601\n",
      "4       dnn   Accuracy   84.025943\n",
      "5       knn  Precision   86.670207\n",
      "6   knn_pca  Precision   85.115529\n",
      "7       svm  Precision   81.581798\n",
      "8   svm_pca  Precision   75.541252\n",
      "9       dnn  Precision   74.989348\n",
      "10      knn     Recall   88.792165\n",
      "11  knn_pca     Recall   86.180631\n",
      "12      svm     Recall   81.936888\n",
      "13  svm_pca     Recall   70.239391\n",
      "14      dnn     Recall   95.756257\n",
      "15      knn     FScore   87.718355\n",
      "16  knn_pca     FScore   85.644769\n",
      "17      svm     FScore   81.758958\n",
      "18  svm_pca     FScore   72.793910\n",
      "19      dnn     FScore   84.109916\n"
     ]
    }
   ],
   "source": [
    "print(accuracies)\n",
    "print(precisions)\n",
    "print(recalls)\n",
    "print(fscores)\n",
    "\n",
    "df = pd.DataFrame([accuracies.values(), precisions.values(), recalls.values(), fscores.values()])\n",
    "df = df.transpose()\n",
    "df.columns = ['Accuracy', 'Precision', 'Recall', 'FScore']\n",
    "df['model'] = accuracies.keys()\n",
    "df = pd.melt(df, id_vars=\"model\", var_name=\"metric\", value_name=\"percentage\")\n",
    "print(df)"
   ]
  },
  {
   "cell_type": "markdown",
   "metadata": {},
   "source": [
    "## Plot Various Scores of all models"
   ]
  },
  {
   "cell_type": "code",
   "execution_count": 72,
   "metadata": {},
   "outputs": [
    {
     "data": {
      "image/png": "[encoded data removed]",
      "text/plain": [
       "<Figure size 1800x1080 with 1 Axes>"
      ]
     },
     "metadata": {},
     "output_type": "display_data"
    }
   ],
   "source": [
    "import seaborn as sns\n",
    "sns.set(font_scale=2) \n",
    "\n",
    "g = sns.catplot(x='metric', y=\"percentage\", hue=\"model\", data=df, kind='bar')\n",
    "g.fig.set_figwidth(25)\n",
    "g.fig.set_figheight(15)"
   ]
  }
 ],
 "metadata": {
  "kernelspec": {
   "display_name": "Python 3 (ipykernel)",
   "language": "python",
   "name": "python3"
  },
  "language_info": {
   "codemirror_mode": {
    "name": "ipython",
    "version": 3
   },
   "file_extension": ".py",
   "mimetype": "text/x-python",
   "name": "python",
   "nbconvert_exporter": "python",
   "pygments_lexer": "ipython3",
   "version": "3.9.5"
  }
 },
 "nbformat": 4,
 "nbformat_minor": 2
}
